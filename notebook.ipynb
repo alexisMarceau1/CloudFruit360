{
 "cells": [
  {
   "cell_type": "markdown",
   "id": "f67a5ba0",
   "metadata": {},
   "source": [
    "# Déploiement d'un modèle dans le cloud"
   ]
  },
  {
   "cell_type": "markdown",
   "id": "188a3e47",
   "metadata": {},
   "source": [
    "---"
   ]
  },
  {
   "cell_type": "markdown",
   "id": "da0e28fc",
   "metadata": {},
   "source": [
    "Ce notebook est une première chaîne de traitement d'images qui comprend le preprocessing et une étape de réduction de dimension pour un outil de classification d'image"
   ]
  },
  {
   "cell_type": "markdown",
   "id": "bbbf5352",
   "metadata": {},
   "source": [
    "---"
   ]
  },
  {
   "cell_type": "markdown",
   "id": "347a255d",
   "metadata": {},
   "source": [
    "## Imports"
   ]
  },
  {
   "cell_type": "code",
   "execution_count": 1,
   "id": "9031c2f9",
   "metadata": {},
   "outputs": [],
   "source": [
    "# librairies classiques\n",
    "import numpy as np\n",
    "import pandas as pd\n",
    "import os\n",
    "import time\n",
    "import logging\n",
    "import matplotlib.pyplot as plt\n",
    "\n",
    "\n",
    "# librairies pyspark\n",
    "import pyspark\n",
    "from typing import Iterator\n",
    "from pyspark import SparkContext\n",
    "from pyspark.sql import SparkSession, Row\n",
    "from pyspark.sql.types import *\n",
    "from pyspark.sql.functions import udf, pandas_udf, PandasUDFType\n",
    "from pyspark.ml.feature import StandardScaler, PCA\n",
    "from pyspark.ml.linalg import VectorUDT, DenseVector\n",
    "from pyspark.ml.image import ImageSchema\n",
    "\n",
    "# librairie de connexion au service S3 d'AWS\n",
    "import boto3\n",
    "\n",
    "#librairies tensorflow\n",
    "import tensorflow as tf\n",
    "from tensorflow.keras.applications.vgg16 import VGG16, preprocess_input\n",
    "from tensorflow.keras.preprocessing.image import img_to_array, load_img\n",
    "\n",
    "#chemins du bucket s3\n",
    "BUCKET = \"s3a://imagesp8alexis/*\""
   ]
  },
  {
   "cell_type": "markdown",
   "id": "9f635037",
   "metadata": {},
   "source": [
    "## Fonctions"
   ]
  },
  {
   "cell_type": "code",
   "execution_count": 2,
   "id": "f3ad9d6e",
   "metadata": {},
   "outputs": [],
   "source": [
    "@udf(VectorUDT())\n",
    "def get_features(image):\n",
    "    '''\n",
    "        Permet l'extraction des features d'une image à partir du modèle VGG16\n",
    "        \n",
    "        Input:\n",
    "        ------\n",
    "        image : spark image\n",
    "            \n",
    "        Output:\n",
    "        -------\n",
    "        DenseVector   \n",
    "    ''' \n",
    "    array = ImageSchema.toNDArray(image)         #conversion de l'image en numpy array \n",
    "    preprocessed = preprocess_input(array)       #appel de la fonction vgg16\n",
    "    reshaped = preprocessed.reshape(1,100,100,3) # reshape de l'array pour le modèle\n",
    "    X_features = vgg16.predict(reshaped) \n",
    "    \n",
    "    return DenseVector(X_features.flatten())\n",
    "\n",
    "@udf(StringType())\n",
    "def category(origin):\n",
    "    '''\n",
    "    Retourne la catégorie de l'image:\n",
    "        Split les chemins images et sélectionne l'avant dernier élément \n",
    "        correspondant à la catégorie image\n",
    "    \n",
    "    Input:\n",
    "    -----\n",
    "    image.origin\n",
    "    \n",
    "    Output:\n",
    "    ------\n",
    "    colonne df spark contenant la catégorie pour chaque image\n",
    "    '''\n",
    "    return origin.split(\"/\")[-2]\n",
    "\n",
    "def load_data(BUCKET):\n",
    "    '''\n",
    "        Permet la lecture du répertoire S3 contenant les images et retourne\n",
    "        un spark dataframe contenant les images\n",
    "        \n",
    "        \n",
    "        Input:\n",
    "        ------\n",
    "        path : string\n",
    "               Chemin d'accès S3 du répertoire contenant le images\n",
    "               \n",
    "        spark_session : SparkSession\n",
    "                        La session Spark active\n",
    "\n",
    "        Output:\n",
    "        -------\n",
    "        Dataframe Spark   \n",
    "    ''' \n",
    "    #timer\n",
    "    start = time.time()\n",
    "    \n",
    "    #lecture des images depuis le bucket S3\n",
    "    df = spark.read.format(\"image\").load(BUCKET)\n",
    "    \n",
    "    #ajout d'une colonne contenant le chemin des images\n",
    "    df = df.withColumn(\"category\", category(\"image.origin\"))\n",
    "           \n",
    "    #affichages\n",
    "    print('Chargement terminé.')\n",
    "    print('Temps de chargement des images : {} secondes'.format(time.strftime('%S',\n",
    "                                                    time.gmtime(time.time()-start))))\n",
    "    print(\"nombre d'images chargées:\", df.count())\n",
    "    print(\"Structure du dataframe:\")\n",
    "    df.printSchema()\n",
    "    print(\"Dataframe :\")\n",
    "    df.show()\n",
    "    \n",
    "    return df\n",
    "\n",
    "def vgg16_init():\n",
    "    '''\n",
    "        Renvoie un modèle VGG 16        \n",
    "        Taille d'entrée des images : 100x100x3\n",
    "    '''\n",
    "    #modèle vgg16 sans la couche supérieur\n",
    "    vgg16 = VGG16(\n",
    "        include_top=False,\n",
    "        weights=None,\n",
    "        pooling='max',\n",
    "        input_shape=(100, 100, 3))\n",
    "    \n",
    "    return vgg16\n",
    "\n",
    "def display_scree_plot(pca):\n",
    "    '''affiche un scree plot pour la pca'''\n",
    "\n",
    "    scree = pca.explainedVariance*100\n",
    "    plt.bar(np.arange(len(scree))+1, scree)\n",
    "    plt.plot(np.arange(len(scree))+1, scree.cumsum(),c=\"red\",marker='o')\n",
    "    plt.xlabel(\"Number of principal components\")\n",
    "    plt.ylabel(\"Percentage explained variance\")\n",
    "    plt.title(\"Scree plot\")\n",
    "    plt.show(block=False)\n",
    "    \n",
    "def scatter_plot_pca(X_pca, y):\n",
    "    '''affiche un scatter plot 2d de la pca'''\n",
    "    \n",
    "    markers = 's', 'x', 'o', 'v'\n",
    "    colors = list(plt.rcParams['axes.prop_cycle'])\n",
    "    target = np.unique(y)\n",
    "    plt.figure(figsize=(10,5))\n",
    "    for idx, (t, m) in enumerate(zip(target, markers)):\n",
    "        subset = X_pca[y == t]\n",
    "        plt.scatter(subset[:, 0], \n",
    "                    subset[:, 1], \n",
    "                    s = 10,\n",
    "                    c = colors[idx]['color'], label = t, marker = m)\n",
    "        \n",
    "    plt.xlabel('PC 1')\n",
    "    plt.ylabel('PC 2')\n",
    "    plt.legend(bbox_to_anchor=(1.0, 1.02), loc='upper left')\n",
    "    plt.tight_layout()\n",
    "    plt.title(\"scatter plot 2d pca\")\n",
    "    plt.show()"
   ]
  },
  {
   "cell_type": "markdown",
   "id": "d3a72d79",
   "metadata": {},
   "source": [
    "## Chargement des données"
   ]
  },
  {
   "cell_type": "code",
   "execution_count": 3,
   "id": "7b2023c1",
   "metadata": {},
   "outputs": [],
   "source": [
    "#Initialisation session boto3\n",
    "session = boto3.session.Session()\n",
    "credentials = session.get_credentials()\n",
    "\n",
    "#Récupération des clés d'accès et stockage dans une variable d'environnement\n",
    "os.environ['AWS_ACCESS_KEY_ID'] = credentials.access_key\n",
    "os.environ['AWS_SECRET_ACCESS_KEY'] = credentials.secret_key"
   ]
  },
  {
   "cell_type": "code",
   "execution_count": 4,
   "id": "da4bd9b3",
   "metadata": {},
   "outputs": [
    {
     "name": "stderr",
     "output_type": "stream",
     "text": [
      "Setting default log level to \"WARN\".\n",
      "To adjust logging level use sc.setLogLevel(newLevel). For SparkR, use setLogLevel(newLevel).\n"
     ]
    },
    {
     "name": "stdout",
     "output_type": "stream",
     "text": [
      "22/10/28 16:00:21 WARN NativeCodeLoader: Unable to load native-hadoop library for your platform... using builtin-java classes where applicable\n"
     ]
    }
   ],
   "source": [
    "# Initialisation session spark\n",
    "spark = SparkSession.builder.appName('P8').getOrCreate()"
   ]
  },
  {
   "cell_type": "code",
   "execution_count": 5,
   "id": "81eac4c7",
   "metadata": {},
   "outputs": [
    {
     "data": {
      "text/html": [
       "\n",
       "            <div>\n",
       "                <p><b>SparkSession - in-memory</b></p>\n",
       "                \n",
       "        <div>\n",
       "            <p><b>SparkContext</b></p>\n",
       "\n",
       "            <p><a href=\"http://ip-172-31-47-168.eu-west-3.compute.internal:4040\">Spark UI</a></p>\n",
       "\n",
       "            <dl>\n",
       "              <dt>Version</dt>\n",
       "                <dd><code>v3.3.0</code></dd>\n",
       "              <dt>Master</dt>\n",
       "                <dd><code>local[*]</code></dd>\n",
       "              <dt>AppName</dt>\n",
       "                <dd><code>P8</code></dd>\n",
       "            </dl>\n",
       "        </div>\n",
       "        \n",
       "            </div>\n",
       "        "
      ],
      "text/plain": [
       "<pyspark.sql.session.SparkSession at 0x7f697d58d450>"
      ]
     },
     "execution_count": 5,
     "metadata": {},
     "output_type": "execute_result"
    }
   ],
   "source": [
    "#session spark actuelle\n",
    "spark"
   ]
  },
  {
   "cell_type": "markdown",
   "id": "3b91d1f0",
   "metadata": {},
   "source": [
    "adresse locale : \"AdresseIP_attribuée_automatiquement\":4040\n",
    "\n",
    "ex : 13.37.250.245:4040"
   ]
  },
  {
   "cell_type": "code",
   "execution_count": 6,
   "id": "1194a39c",
   "metadata": {},
   "outputs": [
    {
     "data": {
      "text/plain": [
       "['origin', 'height', 'width', 'nChannels', 'mode', 'data']"
      ]
     },
     "execution_count": 6,
     "metadata": {},
     "output_type": "execute_result"
    }
   ],
   "source": [
    "ImageSchema.imageFields"
   ]
  },
  {
   "cell_type": "code",
   "execution_count": 7,
   "id": "bf2df643",
   "metadata": {},
   "outputs": [
    {
     "name": "stdout",
     "output_type": "stream",
     "text": [
      "22/10/28 16:00:25 WARN MetricsConfig: Cannot locate configuration: tried hadoop-metrics2-s3a-file-system.properties,hadoop-metrics2.properties\n",
      "Chargement terminé.\n",
      "Temps de chargement des images : 05 secondes\n"
     ]
    },
    {
     "name": "stderr",
     "output_type": "stream",
     "text": [
      "                                                                                \r"
     ]
    },
    {
     "name": "stdout",
     "output_type": "stream",
     "text": [
      "nombre d'images chargées: 40\n",
      "Structure du dataframe:\n",
      "root\n",
      " |-- image: struct (nullable = true)\n",
      " |    |-- origin: string (nullable = true)\n",
      " |    |-- height: integer (nullable = true)\n",
      " |    |-- width: integer (nullable = true)\n",
      " |    |-- nChannels: integer (nullable = true)\n",
      " |    |-- mode: integer (nullable = true)\n",
      " |    |-- data: binary (nullable = true)\n",
      " |-- category: string (nullable = true)\n",
      "\n",
      "Dataframe :\n"
     ]
    },
    {
     "name": "stderr",
     "output_type": "stream",
     "text": [
      "                                                                                \r"
     ]
    },
    {
     "name": "stdout",
     "output_type": "stream",
     "text": [
      "+--------------------+----------------+\n",
      "|               image|        category|\n",
      "+--------------------+----------------+\n",
      "|{s3a://imagesp8al...|         Apricot|\n",
      "|{s3a://imagesp8al...|         Apricot|\n",
      "|{s3a://imagesp8al...|         Apricot|\n",
      "|{s3a://imagesp8al...|         Apricot|\n",
      "|{s3a://imagesp8al...|         Apricot|\n",
      "|{s3a://imagesp8al...|         Apricot|\n",
      "|{s3a://imagesp8al...|         Apricot|\n",
      "|{s3a://imagesp8al...|         Apricot|\n",
      "|{s3a://imagesp8al...|         Apricot|\n",
      "|{s3a://imagesp8al...|         Apricot|\n",
      "|{s3a://imagesp8al...|             Fig|\n",
      "|{s3a://imagesp8al...|AppleGrannySmith|\n",
      "|{s3a://imagesp8al...|AppleGrannySmith|\n",
      "|{s3a://imagesp8al...|             Fig|\n",
      "|{s3a://imagesp8al...|             Fig|\n",
      "|{s3a://imagesp8al...|AppleGrannySmith|\n",
      "|{s3a://imagesp8al...|AppleGrannySmith|\n",
      "|{s3a://imagesp8al...|AppleGrannySmith|\n",
      "|{s3a://imagesp8al...|             Fig|\n",
      "|{s3a://imagesp8al...|AppleGrannySmith|\n",
      "+--------------------+----------------+\n",
      "only showing top 20 rows\n",
      "\n"
     ]
    }
   ],
   "source": [
    "#chargement des images \n",
    "df = load_data(BUCKET).repartition(8)"
   ]
  },
  {
   "cell_type": "markdown",
   "id": "ca4ba433",
   "metadata": {},
   "source": [
    "## Extraction des features"
   ]
  },
  {
   "cell_type": "code",
   "execution_count": 8,
   "id": "0f0a4804",
   "metadata": {},
   "outputs": [
    {
     "name": "stderr",
     "output_type": "stream",
     "text": [
      "2022-10-28 16:00:38.163098: E tensorflow/stream_executor/cuda/cuda_driver.cc:271] failed call to cuInit: CUDA_ERROR_NO_DEVICE: no CUDA-capable device is detected\n",
      "2022-10-28 16:00:38.163147: I tensorflow/stream_executor/cuda/cuda_diagnostics.cc:156] kernel driver does not appear to be running on this host (ip-172-31-47-168): /proc/driver/nvidia/version does not exist\n",
      "2022-10-28 16:00:38.165439: I tensorflow/core/platform/cpu_feature_guard.cc:151] This TensorFlow binary is optimized with oneAPI Deep Neural Network Library (oneDNN) to use the following CPU instructions in performance-critical operations:  AVX2 FMA\n",
      "To enable them in other operations, rebuild TensorFlow with the appropriate compiler flags.\n"
     ]
    },
    {
     "name": "stdout",
     "output_type": "stream",
     "text": [
      "Model: \"vgg16\"\n",
      "_________________________________________________________________\n",
      " Layer (type)                Output Shape              Param #   \n",
      "=================================================================\n",
      " input_1 (InputLayer)        [(None, 100, 100, 3)]     0         \n",
      "                                                                 \n",
      " block1_conv1 (Conv2D)       (None, 100, 100, 64)      1792      \n",
      "                                                                 \n",
      " block1_conv2 (Conv2D)       (None, 100, 100, 64)      36928     \n",
      "                                                                 \n",
      " block1_pool (MaxPooling2D)  (None, 50, 50, 64)        0         \n",
      "                                                                 \n",
      " block2_conv1 (Conv2D)       (None, 50, 50, 128)       73856     \n",
      "                                                                 \n",
      " block2_conv2 (Conv2D)       (None, 50, 50, 128)       147584    \n",
      "                                                                 \n",
      " block2_pool (MaxPooling2D)  (None, 25, 25, 128)       0         \n",
      "                                                                 \n",
      " block3_conv1 (Conv2D)       (None, 25, 25, 256)       295168    \n",
      "                                                                 \n",
      " block3_conv2 (Conv2D)       (None, 25, 25, 256)       590080    \n",
      "                                                                 \n",
      " block3_conv3 (Conv2D)       (None, 25, 25, 256)       590080    \n",
      "                                                                 \n",
      " block3_pool (MaxPooling2D)  (None, 12, 12, 256)       0         \n",
      "                                                                 \n",
      " block4_conv1 (Conv2D)       (None, 12, 12, 512)       1180160   \n",
      "                                                                 \n",
      " block4_conv2 (Conv2D)       (None, 12, 12, 512)       2359808   \n",
      "                                                                 \n",
      " block4_conv3 (Conv2D)       (None, 12, 12, 512)       2359808   \n",
      "                                                                 \n",
      " block4_pool (MaxPooling2D)  (None, 6, 6, 512)         0         \n",
      "                                                                 \n",
      " block5_conv1 (Conv2D)       (None, 6, 6, 512)         2359808   \n",
      "                                                                 \n",
      " block5_conv2 (Conv2D)       (None, 6, 6, 512)         2359808   \n",
      "                                                                 \n",
      " block5_conv3 (Conv2D)       (None, 6, 6, 512)         2359808   \n",
      "                                                                 \n",
      " block5_pool (MaxPooling2D)  (None, 3, 3, 512)         0         \n",
      "                                                                 \n",
      " global_max_pooling2d (Globa  (None, 512)              0         \n",
      " lMaxPooling2D)                                                  \n",
      "                                                                 \n",
      "=================================================================\n",
      "Total params: 14,714,688\n",
      "Trainable params: 14,714,688\n",
      "Non-trainable params: 0\n",
      "_________________________________________________________________\n"
     ]
    }
   ],
   "source": [
    "#appel de fonction d'initilisation d'un modèle vgg16\n",
    "vgg16 = vgg16_init() \n",
    "vgg16.summary()"
   ]
  },
  {
   "cell_type": "code",
   "execution_count": 9,
   "id": "b3c28bd6",
   "metadata": {},
   "outputs": [
    {
     "name": "stdout",
     "output_type": "stream",
     "text": [
      "WARNING:tensorflow:Compiled the loaded model, but the compiled metrics have yet to be built. `model.compile_metrics` will be empty until you train or evaluate the model.\n"
     ]
    },
    {
     "name": "stderr",
     "output_type": "stream",
     "text": [
      "2022-10-28 16:00:39.231396: W tensorflow/python/util/util.cc:368] Sets are not currently considered sequences, but this may change in the future, so consider avoiding using them.\n"
     ]
    },
    {
     "name": "stdout",
     "output_type": "stream",
     "text": [
      "INFO:tensorflow:Assets written to: ram://17cb1797-4738-4de9-a192-53718bdcc567/assets\n",
      "Temps extraction des features: 2.63 secondes\n"
     ]
    }
   ],
   "source": [
    "# extraction des features de l'image à l'aide du VGG16\n",
    "start = time.perf_counter()\n",
    "featurized_df = df.withColumn('cnn_features', get_features('image')).cache()\n",
    "stop = time.perf_counter()\n",
    "print(f'Temps extraction des features: {stop - start:0.2f} secondes')"
   ]
  },
  {
   "cell_type": "code",
   "execution_count": 10,
   "id": "80f94cdd",
   "metadata": {},
   "outputs": [
    {
     "name": "stderr",
     "output_type": "stream",
     "text": [
      "2022-10-28 16:00:45.776921: E tensorflow/stream_executor/cuda/cuda_driver.cc:271] failed call to cuInit: CUDA_ERROR_NO_DEVICE: no CUDA-capable device is detected\n",
      "2022-10-28 16:00:45.776971: I tensorflow/stream_executor/cuda/cuda_diagnostics.cc:156] kernel driver does not appear to be running on this host (ip-172-31-47-168): /proc/driver/nvidia/version does not exist\n",
      "2022-10-28 16:00:45.777301: I tensorflow/core/platform/cpu_feature_guard.cc:151] This TensorFlow binary is optimized with oneAPI Deep Neural Network Library (oneDNN) to use the following CPU instructions in performance-critical operations:  AVX2 FMA\n",
      "To enable them in other operations, rebuild TensorFlow with the appropriate compiler flags.\n",
      "WARNING:tensorflow:No training configuration found in save file, so the model was *not* compiled. Compile it manually.\n",
      "WARNING:tensorflow:No training configuration found in save file, so the model was *not* compiled. Compile it manually.\n",
      "2022-10-28 16:00:51.512858: E tensorflow/stream_executor/cuda/cuda_driver.cc:271] failed call to cuInit: CUDA_ERROR_NO_DEVICE: no CUDA-capable device is detected\n",
      "2022-10-28 16:00:51.512904: I tensorflow/stream_executor/cuda/cuda_diagnostics.cc:156] kernel driver does not appear to be running on this host (ip-172-31-47-168): /proc/driver/nvidia/version does not exist\n",
      "2022-10-28 16:00:51.513192: I tensorflow/core/platform/cpu_feature_guard.cc:151] This TensorFlow binary is optimized with oneAPI Deep Neural Network Library (oneDNN) to use the following CPU instructions in performance-critical operations:  AVX2 FMA\n",
      "To enable them in other operations, rebuild TensorFlow with the appropriate compiler flags.\n",
      "WARNING:tensorflow:No training configuration found in save file, so the model was *not* compiled. Compile it manually.\n",
      "WARNING:tensorflow:No training configuration found in save file, so the model was *not* compiled. Compile it manually.\n",
      "WARNING:tensorflow:No training configuration found in save file, so the model was *not* compiled. Compile it manually.\n"
     ]
    },
    {
     "name": "stdout",
     "output_type": "stream",
     "text": [
      "+--------------------+----------------+--------------------+\n",
      "|               image|        category|        cnn_features|\n",
      "+--------------------+----------------+--------------------+\n",
      "|{s3a://imagesp8al...|         Apricot|[0.44977459311485...|\n",
      "|{s3a://imagesp8al...|             Fig|[0.36610150337219...|\n",
      "|{s3a://imagesp8al...|         Apricot|[0.41223129630088...|\n",
      "|{s3a://imagesp8al...|AppleGrannySmith|[0.47027322649955...|\n",
      "|{s3a://imagesp8al...|          Banana|[0.33487695455551...|\n",
      "|{s3a://imagesp8al...|          Banana|[0.40485137701034...|\n",
      "|{s3a://imagesp8al...|         Apricot|[0.44093197584152...|\n",
      "|{s3a://imagesp8al...|         Apricot|[0.42068630456924...|\n",
      "|{s3a://imagesp8al...|             Fig|[0.37644225358963...|\n",
      "|{s3a://imagesp8al...|             Fig|[0.39170134067535...|\n",
      "|{s3a://imagesp8al...|          Banana|[0.37126508355140...|\n",
      "|{s3a://imagesp8al...|AppleGrannySmith|[0.47091910243034...|\n",
      "|{s3a://imagesp8al...|         Apricot|[0.43171134591102...|\n",
      "|{s3a://imagesp8al...|         Apricot|[0.46405458450317...|\n",
      "|{s3a://imagesp8al...|AppleGrannySmith|[0.47469574213027...|\n",
      "|{s3a://imagesp8al...|          Banana|[0.36103695631027...|\n",
      "|{s3a://imagesp8al...|         Apricot|[0.46045637130737...|\n",
      "|{s3a://imagesp8al...|AppleGrannySmith|[0.47878107428550...|\n",
      "|{s3a://imagesp8al...|             Fig|[0.37009096145629...|\n",
      "|{s3a://imagesp8al...|             Fig|[0.39411336183547...|\n",
      "+--------------------+----------------+--------------------+\n",
      "only showing top 20 rows\n",
      "\n"
     ]
    },
    {
     "name": "stderr",
     "output_type": "stream",
     "text": [
      "                                                                                \r"
     ]
    }
   ],
   "source": [
    "featurized_df.show()"
   ]
  },
  {
   "cell_type": "code",
   "execution_count": 11,
   "id": "c9faf742",
   "metadata": {},
   "outputs": [
    {
     "name": "stdout",
     "output_type": "stream",
     "text": [
      "+-------------------------+\n",
      "|array_shape(cnn_features)|\n",
      "+-------------------------+\n",
      "|                  [512.0]|\n",
      "|                  [512.0]|\n",
      "|                  [512.0]|\n",
      "|                  [512.0]|\n",
      "|                  [512.0]|\n",
      "|                  [512.0]|\n",
      "|                  [512.0]|\n",
      "|                  [512.0]|\n",
      "|                  [512.0]|\n",
      "|                  [512.0]|\n",
      "|                  [512.0]|\n",
      "|                  [512.0]|\n",
      "|                  [512.0]|\n",
      "|                  [512.0]|\n",
      "|                  [512.0]|\n",
      "|                  [512.0]|\n",
      "|                  [512.0]|\n",
      "|                  [512.0]|\n",
      "|                  [512.0]|\n",
      "|                  [512.0]|\n",
      "+-------------------------+\n",
      "only showing top 20 rows\n",
      "\n"
     ]
    },
    {
     "name": "stderr",
     "output_type": "stream",
     "text": [
      "                                                                                \r"
     ]
    }
   ],
   "source": [
    "#observation du nombre de features par images\n",
    "@udf(VectorUDT())\n",
    "def array_shape(array):\n",
    "    return DenseVector(array.shape)\n",
    "    \n",
    "featurized_df.select(array_shape('cnn_features')).show()"
   ]
  },
  {
   "cell_type": "markdown",
   "id": "40c88eb4",
   "metadata": {},
   "source": [
    "Le VGG a permis de créer 512 features par images."
   ]
  },
  {
   "cell_type": "markdown",
   "id": "3e7a3677",
   "metadata": {},
   "source": [
    "## Réduction de dimensions"
   ]
  },
  {
   "cell_type": "code",
   "execution_count": 12,
   "id": "c8777665",
   "metadata": {},
   "outputs": [],
   "source": [
    "# standard scaler\n",
    "scaler = StandardScaler(inputCol=\"cnn_features\", \n",
    "                        outputCol=\"scaled_features\",\n",
    "                        withMean=True,\n",
    "                        withStd=True)"
   ]
  },
  {
   "cell_type": "code",
   "execution_count": 13,
   "id": "ee11c2c6",
   "metadata": {},
   "outputs": [
    {
     "name": "stderr",
     "output_type": "stream",
     "text": [
      "WARNING:tensorflow:No training configuration found in save file, so the model was *not* compiled. Compile it manually.\n",
      "WARNING:tensorflow:No training configuration found in save file, so the model was *not* compiled. Compile it manually.\n",
      "WARNING:tensorflow:No training configuration found in save file, so the model was *not* compiled. Compile it manually.\n",
      "                                                                                \r"
     ]
    }
   ],
   "source": [
    "X_scaled = scaler.fit(featurized_df)\n",
    "featurized_df = X_scaled.transform(featurized_df)"
   ]
  },
  {
   "cell_type": "code",
   "execution_count": 14,
   "id": "fcbbadb6",
   "metadata": {},
   "outputs": [],
   "source": [
    "pca = PCA(k=10, \n",
    "          inputCol=\"scaled_features\", \n",
    "          outputCol=\"PCA_scaled_features\")"
   ]
  },
  {
   "cell_type": "markdown",
   "id": "3f0748c2",
   "metadata": {},
   "source": [
    "La valeur de K est a ajustée en fonction des résultats du scree plot ci-dessous.\n",
    "Ici pour k=10, on conserve plus de 90% de la variance des données lors de la réduction de dimension."
   ]
  },
  {
   "cell_type": "code",
   "execution_count": 15,
   "id": "e003dc1d",
   "metadata": {},
   "outputs": [
    {
     "name": "stderr",
     "output_type": "stream",
     "text": [
      "[Stage 28:>                                                         (0 + 2) / 8]\r"
     ]
    },
    {
     "name": "stdout",
     "output_type": "stream",
     "text": [
      "22/10/28 16:01:03 WARN InstanceBuilder$NativeBLAS: Failed to load implementation from:dev.ludovic.netlib.blas.JNIBLAS\n",
      "22/10/28 16:01:03 WARN InstanceBuilder$NativeBLAS: Failed to load implementation from:dev.ludovic.netlib.blas.ForeignLinkerBLAS\n"
     ]
    },
    {
     "name": "stderr",
     "output_type": "stream",
     "text": [
      "                                                                                \r"
     ]
    },
    {
     "name": "stdout",
     "output_type": "stream",
     "text": [
      "22/10/28 16:01:04 WARN LAPACK: Failed to load implementation from: com.github.fommil.netlib.NativeSystemLAPACK\n",
      "22/10/28 16:01:04 WARN LAPACK: Failed to load implementation from: com.github.fommil.netlib.NativeRefLAPACK\n"
     ]
    }
   ],
   "source": [
    "PCA_X_scaled = pca.fit(featurized_df)\n",
    "featurized_df = PCA_X_scaled.transform(featurized_df)"
   ]
  },
  {
   "cell_type": "code",
   "execution_count": 16,
   "id": "97597f22",
   "metadata": {},
   "outputs": [
    {
     "data": {
      "image/png": "[encoded data removed]",
      "text/plain": [
       "<Figure size 640x480 with 1 Axes>"
      ]
     },
     "metadata": {},
     "output_type": "display_data"
    }
   ],
   "source": [
    "display_scree_plot(PCA_X_scaled)"
   ]
  },
  {
   "cell_type": "code",
   "execution_count": 17,
   "id": "d7a406db",
   "metadata": {},
   "outputs": [
    {
     "name": "stdout",
     "output_type": "stream",
     "text": [
      "+--------------------+----------------+--------------------+--------------------+--------------------+\n",
      "|               image|        category|        cnn_features|     scaled_features| PCA_scaled_features|\n",
      "+--------------------+----------------+--------------------+--------------------+--------------------+\n",
      "|{s3a://imagesp8al...|         Apricot|[0.44977459311485...|[0.83426054602665...|[-5.5212656335726...|\n",
      "|{s3a://imagesp8al...|             Fig|[0.36610150337219...|[-1.0841324337059...|[5.53230211827247...|\n",
      "|{s3a://imagesp8al...|         Apricot|[0.41223129630088...|[-0.0265036168055...|[-5.4028525715773...|\n",
      "|{s3a://imagesp8al...|AppleGrannySmith|[0.47027322649955...|[1.30423762587721...|[-17.922889622188...|\n",
      "|{s3a://imagesp8al...|          Banana|[0.33487695455551...|[-1.8000251469960...|[13.4763781936275...|\n",
      "|{s3a://imagesp8al...|          Banana|[0.40485137701034...|[-0.1957047948845...|[19.5067715378893...|\n",
      "|{s3a://imagesp8al...|         Apricot|[0.44093197584152...|[0.63152374077909...|[-5.7344205745214...|\n",
      "|{s3a://imagesp8al...|         Apricot|[0.42068630456924...|[0.16734638389932...|[-4.5866631935415...|\n",
      "|{s3a://imagesp8al...|             Fig|[0.37644225358963...|[-0.8470475754401...|[4.99776300903587...|\n",
      "|{s3a://imagesp8al...|             Fig|[0.39170134067535...|[-0.4971988291776...|[5.79973474616922...|\n",
      "|{s3a://imagesp8al...|          Banana|[0.37126508355140...|[-0.9657457935501...|[17.4707842400330...|\n",
      "|{s3a://imagesp8al...|AppleGrannySmith|[0.47091910243034...|[1.31904577811838...|[-18.010996583884...|\n",
      "|{s3a://imagesp8al...|         Apricot|[0.43171134591102...|[0.42012014875471...|[-5.5552820770765...|\n",
      "|{s3a://imagesp8al...|         Apricot|[0.46405458450317...|[1.16166133060686...|[-5.2823643591229...|\n",
      "|{s3a://imagesp8al...|AppleGrannySmith|[0.47469574213027...|[1.40563370154298...|[-18.129468431775...|\n",
      "|{s3a://imagesp8al...|          Banana|[0.36103695631027...|[-1.2002485178495...|[16.0605834172209...|\n",
      "|{s3a://imagesp8al...|         Apricot|[0.46045637130737...|[1.07916423440024...|[-5.4202024268211...|\n",
      "|{s3a://imagesp8al...|AppleGrannySmith|[0.47878107428550...|[1.49929909086430...|[-17.245739031426...|\n",
      "|{s3a://imagesp8al...|             Fig|[0.37009096145629...|[-0.9926651721882...|[5.35174707359110...|\n",
      "|{s3a://imagesp8al...|             Fig|[0.39411336183547...|[-0.4418978420289...|[5.57010280058944...|\n",
      "+--------------------+----------------+--------------------+--------------------+--------------------+\n",
      "only showing top 20 rows\n",
      "\n"
     ]
    }
   ],
   "source": [
    "featurized_df.show()"
   ]
  },
  {
   "cell_type": "code",
   "execution_count": 18,
   "id": "b00781d3",
   "metadata": {},
   "outputs": [
    {
     "data": {
      "text/html": [
       "<div>\n",
       "<style scoped>\n",
       "    .dataframe tbody tr th:only-of-type {\n",
       "        vertical-align: middle;\n",
       "    }\n",
       "\n",
       "    .dataframe tbody tr th {\n",
       "        vertical-align: top;\n",
       "    }\n",
       "\n",
       "    .dataframe thead th {\n",
       "        text-align: right;\n",
       "    }\n",
       "</style>\n",
       "<table border=\"1\" class=\"dataframe\">\n",
       "  <thead>\n",
       "    <tr style=\"text-align: right;\">\n",
       "      <th></th>\n",
       "      <th>image</th>\n",
       "      <th>category</th>\n",
       "      <th>cnn_features</th>\n",
       "      <th>scaled_features</th>\n",
       "      <th>PCA_scaled_features</th>\n",
       "    </tr>\n",
       "  </thead>\n",
       "  <tbody>\n",
       "    <tr>\n",
       "      <th>0</th>\n",
       "      <td>(s3a://imagesp8alexis/Apricot/16_100.jpg, 100,...</td>\n",
       "      <td>Apricot</td>\n",
       "      <td>[0.4497745931148529, 0.5291685461997986, 0.0, ...</td>\n",
       "      <td>[0.8342605460266573, -1.2842584635627383, 0.0,...</td>\n",
       "      <td>[-5.521265633572694, 0.34565780126915796, -17....</td>\n",
       "    </tr>\n",
       "    <tr>\n",
       "      <th>1</th>\n",
       "      <td>(s3a://imagesp8alexis/Fig/8_100.jpg, 100, 100,...</td>\n",
       "      <td>Fig</td>\n",
       "      <td>[0.3661015033721924, 0.8919914960861206, 0.0, ...</td>\n",
       "      <td>[-1.0841324337059426, 1.2792985714208918, 0.0,...</td>\n",
       "      <td>[5.532302118272479, -19.727777515510677, 4.757...</td>\n",
       "    </tr>\n",
       "    <tr>\n",
       "      <th>2</th>\n",
       "      <td>(s3a://imagesp8alexis/Apricot/1_100.jpg, 100, ...</td>\n",
       "      <td>Apricot</td>\n",
       "      <td>[0.41223129630088806, 0.5415899157524109, 0.0,...</td>\n",
       "      <td>[-0.02650361680557513, -1.1964941991723308, 0....</td>\n",
       "      <td>[-5.402852571577385, 0.4032236877955227, -16.6...</td>\n",
       "    </tr>\n",
       "    <tr>\n",
       "      <th>3</th>\n",
       "      <td>(s3a://imagesp8alexis/AppleGrannySmith/15_100....</td>\n",
       "      <td>AppleGrannySmith</td>\n",
       "      <td>[0.4702732264995575, 0.6410220861434937, 0.0, ...</td>\n",
       "      <td>[1.304237625877219, -0.4939475714311272, 0.0, ...</td>\n",
       "      <td>[-17.92288962218855, 6.296690734214174, 9.4182...</td>\n",
       "    </tr>\n",
       "    <tr>\n",
       "      <th>4</th>\n",
       "      <td>(s3a://imagesp8alexis/Banana/56_100.jpg, 100, ...</td>\n",
       "      <td>Banana</td>\n",
       "      <td>[0.3348769545555115, 0.7257764935493469, 0.0, ...</td>\n",
       "      <td>[-1.8000251469960333, 0.10489204833167634, 0.0...</td>\n",
       "      <td>[13.476378193627522, 12.251172134368183, 3.177...</td>\n",
       "    </tr>\n",
       "  </tbody>\n",
       "</table>\n",
       "</div>"
      ],
      "text/plain": [
       "                                               image          category  \\\n",
       "0  (s3a://imagesp8alexis/Apricot/16_100.jpg, 100,...           Apricot   \n",
       "1  (s3a://imagesp8alexis/Fig/8_100.jpg, 100, 100,...               Fig   \n",
       "2  (s3a://imagesp8alexis/Apricot/1_100.jpg, 100, ...           Apricot   \n",
       "3  (s3a://imagesp8alexis/AppleGrannySmith/15_100....  AppleGrannySmith   \n",
       "4  (s3a://imagesp8alexis/Banana/56_100.jpg, 100, ...            Banana   \n",
       "\n",
       "                                        cnn_features  \\\n",
       "0  [0.4497745931148529, 0.5291685461997986, 0.0, ...   \n",
       "1  [0.3661015033721924, 0.8919914960861206, 0.0, ...   \n",
       "2  [0.41223129630088806, 0.5415899157524109, 0.0,...   \n",
       "3  [0.4702732264995575, 0.6410220861434937, 0.0, ...   \n",
       "4  [0.3348769545555115, 0.7257764935493469, 0.0, ...   \n",
       "\n",
       "                                     scaled_features  \\\n",
       "0  [0.8342605460266573, -1.2842584635627383, 0.0,...   \n",
       "1  [-1.0841324337059426, 1.2792985714208918, 0.0,...   \n",
       "2  [-0.02650361680557513, -1.1964941991723308, 0....   \n",
       "3  [1.304237625877219, -0.4939475714311272, 0.0, ...   \n",
       "4  [-1.8000251469960333, 0.10489204833167634, 0.0...   \n",
       "\n",
       "                                 PCA_scaled_features  \n",
       "0  [-5.521265633572694, 0.34565780126915796, -17....  \n",
       "1  [5.532302118272479, -19.727777515510677, 4.757...  \n",
       "2  [-5.402852571577385, 0.4032236877955227, -16.6...  \n",
       "3  [-17.92288962218855, 6.296690734214174, 9.4182...  \n",
       "4  [13.476378193627522, 12.251172134368183, 3.177...  "
      ]
     },
     "execution_count": 18,
     "metadata": {},
     "output_type": "execute_result"
    }
   ],
   "source": [
    "#conversion spark dataframe vers pandas dataframe\n",
    "df_p = featurized_df.toPandas()\n",
    "df_p.head()"
   ]
  },
  {
   "cell_type": "code",
   "execution_count": 19,
   "id": "13c6ba58",
   "metadata": {},
   "outputs": [
    {
     "name": "stderr",
     "output_type": "stream",
     "text": [
      "                                                                                \r"
     ]
    },
    {
     "data": {
      "image/png": "[encoded data removed]",
      "text/plain": [
       "<Figure size 1000x500 with 1 Axes>"
      ]
     },
     "metadata": {},
     "output_type": "display_data"
    }
   ],
   "source": [
    "#conversion des lignes des valeurs de PCA_scaled_features en numpy array\n",
    "X_pca = featurized_df.rdd.map(lambda row: row.PCA_scaled_features).collect()\n",
    "X_pca = np.array(X_pca)\n",
    "\n",
    "#affichage du scatter plot résultant de la PCA\n",
    "scatter_plot_pca(X_pca, df_p['category'])"
   ]
  },
  {
   "cell_type": "markdown",
   "id": "43e54d06",
   "metadata": {},
   "source": [
    "La visualisation 2d des deux premières composantes de la PCA permet de voir l'efficacité du VGG16 pour distinguer les échantillons de fruits."
   ]
  },
  {
   "cell_type": "markdown",
   "id": "87ed49da",
   "metadata": {},
   "source": [
    "## Enregistrement des données dans le bucket AWS S3"
   ]
  },
  {
   "cell_type": "code",
   "execution_count": 20,
   "id": "0e3c5cb9",
   "metadata": {},
   "outputs": [
    {
     "name": "stderr",
     "output_type": "stream",
     "text": [
      "                                                                                \r"
     ]
    }
   ],
   "source": [
    "#enregistrement au format parquet\n",
    "featurized_df.select('PCA_scaled_features', 'category')\\\n",
    "    .write.mode(\"overwrite\") \\\n",
    "    .parquet(\"s3a://p8alexis/results.parquet\")"
   ]
  },
  {
   "cell_type": "code",
   "execution_count": 21,
   "id": "4f29adc7",
   "metadata": {},
   "outputs": [
    {
     "name": "stdout",
     "output_type": "stream",
     "text": [
      "+--------------------+----------------+\n",
      "| PCA_scaled_features|        category|\n",
      "+--------------------+----------------+\n",
      "|[-5.5212656335726...|         Apricot|\n",
      "|[5.53230211827247...|             Fig|\n",
      "|[-5.4028525715773...|         Apricot|\n",
      "|[-17.922889622188...|AppleGrannySmith|\n",
      "|[13.4763781936275...|          Banana|\n",
      "|[19.5067715378893...|          Banana|\n",
      "|[-5.7344205745214...|         Apricot|\n",
      "|[-4.5866631935415...|         Apricot|\n",
      "|[4.99776300903587...|             Fig|\n",
      "|[5.79973474616922...|             Fig|\n",
      "|[17.4707842400330...|          Banana|\n",
      "|[-18.010996583884...|AppleGrannySmith|\n",
      "|[-5.3150017373686...|         Apricot|\n",
      "|[5.06795575099437...|             Fig|\n",
      "|[-17.664605788090...|AppleGrannySmith|\n",
      "|[17.3547681797583...|          Banana|\n",
      "|[-18.351040242097...|AppleGrannySmith|\n",
      "|[5.11554441346874...|             Fig|\n",
      "|[-18.239995997318...|AppleGrannySmith|\n",
      "|[-17.550651879040...|AppleGrannySmith|\n",
      "+--------------------+----------------+\n",
      "only showing top 20 rows\n",
      "\n"
     ]
    },
    {
     "name": "stderr",
     "output_type": "stream",
     "text": [
      "                                                                                \r"
     ]
    }
   ],
   "source": [
    "#lecture depuis le S3 pour vérification\n",
    "spark.read.parquet(\"s3a://p8alexis/results.parquet\").show(20)"
   ]
  },
  {
   "cell_type": "code",
   "execution_count": 22,
   "id": "ca42a41c",
   "metadata": {},
   "outputs": [],
   "source": [
    "# stop la sparkSession\n",
    "#spark.stop()"
   ]
  },
  {
   "cell_type": "code",
   "execution_count": null,
   "id": "e7eb3df8",
   "metadata": {},
   "outputs": [],
   "source": []
  }
 ],
 "metadata": {
  "kernelspec": {
   "display_name": "Python 3.9.7 ('adsml')",
   "language": "python",
   "name": "python3"
  },
  "language_info": {
   "codemirror_mode": {
    "name": "ipython",
    "version": 3
   },
   "file_extension": ".py",
   "mimetype": "text/x-python",
   "name": "python",
   "nbconvert_exporter": "python",
   "pygments_lexer": "ipython3",
   "version": "3.9.7"
  },
  "vscode": {
   "interpreter": {
    "hash": "e62beb23c07aaeac25435eecbe84d01c437d132729f8bdcf401d33e6cac3f243"
   }
  }
 },
 "nbformat": 4,
 "nbformat_minor": 5
}
